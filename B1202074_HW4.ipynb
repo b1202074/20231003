{
  "nbformat": 4,
  "nbformat_minor": 0,
  "metadata": {
    "colab": {
      "provenance": []
    },
    "kernelspec": {
      "name": "python3",
      "display_name": "Python 3"
    },
    "language_info": {
      "name": "python"
    }
  },
  "cells": [
    {
      "cell_type": "code",
      "source": [
        "data=(input(\"請輸入資料:\")).split()\n",
        "result=[int(i)for i in data]\n",
        "result.remove(max(result))\n",
        "result.remove(min(result))\n",
        "int_list = list(map(int,data))\n",
        "avg=int(sum(int_list))/len(data)\n",
        "print(avg)"
      ],
      "metadata": {
        "id": "jegpTktGuYwm",
        "colab": {
          "base_uri": "https://localhost:8080/"
        },
        "outputId": "5b0e1d53-5c8e-41df-fba6-be6c4807735d"
      },
      "execution_count": null,
      "outputs": [
        {
          "output_type": "stream",
          "name": "stdout",
          "text": [
            "請輸入資料:10 20 30 40 50\n",
            "30.0\n"
          ]
        }
      ]
    },
    {
      "cell_type": "code",
      "source": [
        "a=input(\"請輸入兩個數字與運算符號(中間加空格)：\").split()\n",
        "if('+'in a):\n",
        "  del a[1]\n",
        "  b=list(map(float,a))\n",
        "  print(b[0]+b[1])\n",
        "elif('-'in a):\n",
        "  del a[1]\n",
        "  b=list(map(float,a))\n",
        "  print(b[0]-b[1])\n",
        "elif('*'in a):\n",
        "  del a[1]\n",
        "  b=list(map(float,a))\n",
        "  print(b[0]*b[1])\n",
        "elif('/'in a):\n",
        "  del a[1]\n",
        "  b=list(map(float,a))\n",
        "  print(b[0]/b[1])\n",
        "else:\n",
        "  print(\"輸入格式錯誤\")"
      ],
      "metadata": {
        "colab": {
          "base_uri": "https://localhost:8080/"
        },
        "id": "Krw6iVpNQn9w",
        "outputId": "3a5029d5-49fb-4855-813d-8d00565c40ad"
      },
      "execution_count": null,
      "outputs": [
        {
          "output_type": "stream",
          "name": "stdout",
          "text": [
            "請輸入兩個數字與運算符號(中間加空格)：2 / 3\n",
            "0.6666666666666666\n"
          ]
        }
      ]
    },
    {
      "cell_type": "code",
      "source": [
        "a=int(input(\"請輸入年分(西元)：\"))\n",
        "if(a<1583):\n",
        "  if(a%4==0):\n",
        "    print(\"閏年\")\n",
        "  else:\n",
        "    print(\"平年\")\n",
        "else:\n",
        "  if(a%4==0):\n",
        "    if(a%100==0):\n",
        "      if(a%400==0):\n",
        "        print(\"閏年\")\n",
        "      else:\n",
        "        print(\"平年\")\n",
        "    else:\n",
        "      print(\"閏年\")\n",
        "  else:\n",
        "    print(\"平年\")"
      ],
      "metadata": {
        "colab": {
          "base_uri": "https://localhost:8080/"
        },
        "id": "F5xR3kyafAsU",
        "outputId": "458f21ef-2c0c-4d66-d44c-29ab120b1fd5"
      },
      "execution_count": null,
      "outputs": [
        {
          "output_type": "stream",
          "name": "stdout",
          "text": [
            "請輸入年分(西元)：2000\n",
            "閏年\n"
          ]
        }
      ]
    }
  ]
}