{
  "nbformat": 4,
  "nbformat_minor": 0,
  "metadata": {
    "colab": {
      "provenance": []
    },
    "kernelspec": {
      "name": "python3",
      "display_name": "Python 3"
    },
    "language_info": {
      "name": "python"
    }
  },
  "cells": [
    {
      "cell_type": "code",
      "execution_count": null,
      "metadata": {
        "colab": {
          "base_uri": "https://localhost:8080/"
        },
        "id": "mRniozY-dTqc",
        "outputId": "fe2805b9-0701-4bbd-d768-3d3d40551c72"
      },
      "outputs": [
        {
          "output_type": "stream",
          "name": "stdout",
          "text": [
            "A\n",
            "['K', 'H', 'U']\n"
          ]
        }
      ],
      "source": [
        "a='C,B,A'\n",
        "b=['F','G','H']\n",
        "c=a.split(',')+b\n",
        "c[0]=\"K\"\n",
        "print(c.pop(2))\n",
        "del c[1:4]\n",
        "c.append('U')\n",
        "print(c)"
      ]
    },
    {
      "cell_type": "code",
      "source": [
        "a=float(input(\"請輸入身高（公尺）:\"))\n",
        "b=float(input(\"請輸入體重（公斤）:\"))\n",
        "b/=a\n",
        "b/=a\n",
        "print(\"BMI:\",b)\n",
        "if (b<18.5):\n",
        "  print(\"體位：過輕\")\n",
        "elif (b<24):\n",
        "  print(\"體位：適中\")\n",
        "elif (b<27):\n",
        "  print(\"體位：過重\")\n",
        "else:\n",
        "  print(\"體位：肥胖\")"
      ],
      "metadata": {
        "colab": {
          "base_uri": "https://localhost:8080/"
        },
        "id": "dWWRxMI3l8YT",
        "outputId": "caadb9b6-83b3-468e-d60c-5a812449806f"
      },
      "execution_count": null,
      "outputs": [
        {
          "output_type": "stream",
          "name": "stdout",
          "text": [
            "請輸入身高（公尺）:1.5\n",
            "請輸入體重（公斤）:45\n",
            "BMI: 20.0\n",
            "體位：適中\n"
          ]
        }
      ]
    }
  ]
}